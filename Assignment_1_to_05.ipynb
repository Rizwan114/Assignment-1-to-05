{
  "nbformat": 4,
  "nbformat_minor": 0,
  "metadata": {
    "colab": {
      "provenance": [],
      "authorship_tag": "ABX9TyP8+WdMWDDM7RBwqmCqXd/q",
      "include_colab_link": true
    },
    "kernelspec": {
      "name": "python3",
      "display_name": "Python 3"
    },
    "language_info": {
      "name": "python"
    }
  },
  "cells": [
    {
      "cell_type": "markdown",
      "metadata": {
        "id": "view-in-github",
        "colab_type": "text"
      },
      "source": [
        "<a href=\"https://colab.research.google.com/github/Rizwan114/Assignment-1-to-05/blob/main/Assignment_1_to_05.ipynb\" target=\"_parent\"><img src=\"https://colab.research.google.com/assets/colab-badge.svg\" alt=\"Open In Colab\"/></a>"
      ]
    },
    {
      "cell_type": "markdown",
      "source": [
        "#**Project 1: Mad libs Python Project**"
      ],
      "metadata": {
        "id": "MmTL8chE4cdP"
      }
    },
    {
      "cell_type": "code",
      "execution_count": null,
      "metadata": {
        "id": "n4tUfdOz4ATN"
      },
      "outputs": [],
      "source": [
        "def main():\n",
        "\n",
        "    noun = input(\"Enter a noun: \")\n",
        "    verb = input(\"Enter a verb: \")\n",
        "    adjective = input(\"Enter an adjective: \")\n",
        "    adverb = input(\"Enter an adverb: \")\n",
        "\n",
        "    story = f\"Today, I went to the zoo. I saw a very {adjective} {noun} \" \\\n",
        "            f\"jumping up and down in front of me. It was so {adverb} \" \\\n",
        "            f\"that I couldn't help but {verb} with excitement!\"\n",
        "\n",
        "    print(\"\\nHere's your Mad Libs story:\")\n",
        "    print(story)\n",
        "\n",
        "if __name__ == \"__main__\":\n",
        "    main()"
      ]
    },
    {
      "cell_type": "markdown",
      "source": [
        "#**Project 2: Guess the Number Game Python Project (computer)**"
      ],
      "metadata": {
        "id": "p6WF7oxA4gia"
      }
    },
    {
      "cell_type": "code",
      "source": [
        "import random\n",
        "\n",
        "def guess_the_number():\n",
        "\n",
        "    secret_number = random.randint(1, 100)\n",
        "    attempts = 0\n",
        "    guessed = False\n",
        "\n",
        "    print(\"Welcome to the Guess the Number Game!\")\n",
        "    print(\"I'm thinking of a number between 1 and 100. Try to guess it!\")\n",
        "\n",
        "    while not guessed:\n",
        "\n",
        "        try:\n",
        "            user_guess = int(input(\"Enter your guess: \"))\n",
        "            attempts += 1\n",
        "        except ValueError:\n",
        "            print(\"Please enter a valid number.\")\n",
        "            continue\n",
        "\n",
        "        if user_guess < secret_number:\n",
        "            print(\"Too low! Try again.\")\n",
        "        elif user_guess > secret_number:\n",
        "            print(\"Too high! Try again.\")\n",
        "        else:\n",
        "            guessed = True\n",
        "            print(f\"Congratulations! You've guessed the number in {attempts} attempts.\")\n",
        "\n",
        "def main():\n",
        "    guess_the_number()\n",
        "\n",
        "if __name__ == \"__main__\":\n",
        "    main()"
      ],
      "metadata": {
        "id": "uNOGfUPm4mxC"
      },
      "execution_count": null,
      "outputs": []
    },
    {
      "cell_type": "markdown",
      "source": [
        "#**Project 3: Guess the Number Game Python Project (user)**"
      ],
      "metadata": {
        "id": "s48OAhIj45Ow"
      }
    },
    {
      "cell_type": "code",
      "source": [
        "import random\n",
        "\n",
        "def computer_guess():\n",
        "\n",
        "    low = 1\n",
        "    high = 100\n",
        "    feedback = ''\n",
        "    attempts = 0\n",
        "\n",
        "    print(\"Welcome to the 'Guess the Number' game where the computer guesses your number!\")\n",
        "    print(\"Think of a number between 1 and 100, and I will try to guess it.\")\n",
        "\n",
        "    while feedback != 'c':\n",
        "\n",
        "        guess = random.randint(low, high)\n",
        "        attempts += 1\n",
        "\n",
        "        feedback = input(f\"Is the number {guess}? (h: too high, l: too low, c: correct): \").lower()\n",
        "\n",
        "        if feedback == 'h':\n",
        "            high = guess - 1\n",
        "        elif feedback == 'l':\n",
        "            low = guess + 1\n",
        "        elif feedback == 'c':\n",
        "            print(f\"Yay! The computer guessed your number {guess} in {attempts} attempts.\")\n",
        "        else:\n",
        "            print(\"Please enter a valid feedback: 'h' for too high, 'l' for too low, or 'c' for correct.\")\n",
        "\n",
        "def main():\n",
        "    computer_guess()\n",
        "\n",
        "if __name__ == \"__main__\":\n",
        "    main()"
      ],
      "metadata": {
        "id": "BfEF3MwS4-c4"
      },
      "execution_count": null,
      "outputs": []
    },
    {
      "cell_type": "markdown",
      "source": [
        "#**Project 4: Rock, paper, scissors Python Project**"
      ],
      "metadata": {
        "id": "XTSCNLXc5S8F"
      }
    },
    {
      "cell_type": "code",
      "source": [
        "import random\n",
        "\n",
        "def play_game():\n",
        "\n",
        "    choices = [\"rock\", \"paper\", \"scissors\"]\n",
        "\n",
        "    user_choice = input(\"Enter 'rock', 'paper', or 'scissors': \").lower()\n",
        "\n",
        "    if user_choice not in choices:\n",
        "        print(\"Invalid input, please choose either 'rock', 'paper', or 'scissors'.\")\n",
        "        return\n",
        "\n",
        "    computer_choice = random.choice(choices)\n",
        "    print(f\"Computer chose: {computer_choice}\")\n",
        "\n",
        "    if user_choice == computer_choice:\n",
        "        print(\"It's a tie!\")\n",
        "    elif (user_choice == \"rock\" and computer_choice == \"scissors\") or \\\n",
        "         (user_choice == \"scissors\" and computer_choice == \"paper\") or \\\n",
        "         (user_choice == \"paper\" and computer_choice == \"rock\"):\n",
        "        print(\"You win!\")\n",
        "    else:\n",
        "        print(\"You lose!\")\n",
        "\n",
        "def main():\n",
        "    print(\"Welcome to Rock, Paper, Scissors!\")\n",
        "    play_again = \"yes\"\n",
        "\n",
        "    while play_again.lower() == \"yes\":\n",
        "        play_game()\n",
        "        play_again = input(\"Do you want to play again? (yes/no): \")\n",
        "\n",
        "    print(\"Thanks for playing!\")\n",
        "\n",
        "if __name__ == \"__main__\":\n",
        "    main()"
      ],
      "metadata": {
        "id": "wRTlAGVf5YLV"
      },
      "execution_count": null,
      "outputs": []
    },
    {
      "cell_type": "markdown",
      "source": [
        "#**Project 5: Hangman Python Project**"
      ],
      "metadata": {
        "id": "pkJa9rTS6C0u"
      }
    },
    {
      "cell_type": "code",
      "source": [
        "import random\n",
        "\n",
        "word_list = [\"python\", \"hangman\", \"programming\", \"computer\", \"developer\", \"challenge\"]\n",
        "\n",
        "def display_word(word, guessed_letters):\n",
        "    display = \"\"\n",
        "    for letter in word:\n",
        "        if letter in guessed_letters:\n",
        "            display += letter + \" \"\n",
        "        else:\n",
        "            display += \"_ \"\n",
        "    return display.strip()\n",
        "\n",
        "def play_game():\n",
        "\n",
        "    word = random.choice(word_list)\n",
        "    guessed_letters = []\n",
        "    incorrect_guesses = 0\n",
        "    max_incorrect_guesses = 6\n",
        "\n",
        "    print(\"Welcome to Hangman!\")\n",
        "    print(\"Try to guess the word.\")\n",
        "\n",
        "    while incorrect_guesses < max_incorrect_guesses:\n",
        "        print(f\"\\nIncorrect guesses left: {max_incorrect_guesses - incorrect_guesses}\")\n",
        "        print(display_word(word, guessed_letters))\n",
        "        guess = input(\"Enter a letter: \").lower()\n",
        "\n",
        "        if len(guess) != 1 or not guess.isalpha():\n",
        "            print(\"Please enter a single letter.\")\n",
        "            continue\n",
        "\n",
        "        if guess in guessed_letters:\n",
        "            print(f\"You've already guessed '{guess}'. Try another letter.\")\n",
        "            continue\n",
        "\n",
        "        guessed_letters.append(guess)\n",
        "\n",
        "        if guess in word:\n",
        "            print(f\"Good guess! '{guess}' is in the word.\")\n",
        "        else:\n",
        "            incorrect_guesses += 1\n",
        "            print(f\"Oops! '{guess}' is not in the word.\")\n",
        "\n",
        "        if all(letter in guessed_letters for letter in word):\n",
        "            print(f\"\\nCongratulations! You've guessed the word: {word}\")\n",
        "            break\n",
        "    else:\n",
        "\n",
        "        print(f\"\\nGame Over! The word was: {word}\")\n",
        "\n",
        "def main():\n",
        "    while True:\n",
        "        play_game()\n",
        "        play_again = input(\"Do you want to play again? (yes/no): \").lower()\n",
        "        if play_again != \"yes\":\n",
        "            print(\"Thanks for playing!\")\n",
        "            break\n",
        "\n",
        "if __name__ == \"__main__\":\n",
        "    main()"
      ],
      "metadata": {
        "id": "QSsEhRJt6JhC"
      },
      "execution_count": null,
      "outputs": []
    },
    {
      "cell_type": "markdown",
      "source": [
        "#**Project 6: Countdown Timer Python Project**"
      ],
      "metadata": {
        "id": "YDUPddse6m72"
      }
    },
    {
      "cell_type": "code",
      "source": [
        "import time\n",
        "\n",
        "def countdown_timer(seconds):\n",
        "    while seconds > 0:\n",
        "        mins, secs = divmod(seconds, 60)\n",
        "        timer = f'{mins:02d}:{secs:02d}'\n",
        "        print(timer, end='\\r')\n",
        "        time.sleep(1)\n",
        "        seconds -= 1\n",
        "\n",
        "    print(\"Time's up!\")\n",
        "\n",
        "def main():\n",
        "    while True:\n",
        "        try:\n",
        "            user_input = int(input(\"Enter the time in seconds for the countdown: \"))\n",
        "            if user_input <= 0:\n",
        "                print(\"Please enter a positive integer.\")\n",
        "            else:\n",
        "                break\n",
        "        except ValueError:\n",
        "            print(\"Invalid input! Please enter a valid number.\")\n",
        "\n",
        "    countdown_timer(user_input)\n",
        "\n",
        "if __name__ == \"__main__\":\n",
        "    main()"
      ],
      "metadata": {
        "id": "OvDfmVVw6ugP"
      },
      "execution_count": null,
      "outputs": []
    },
    {
      "cell_type": "markdown",
      "source": [
        "#**Project 7: Password Generator Python Project**"
      ],
      "metadata": {
        "id": "OTnjkOCH7Kml"
      }
    },
    {
      "cell_type": "code",
      "source": [
        "import random\n",
        "import string\n",
        "\n",
        "def generate_password(length):\n",
        "    characters = string.ascii_letters + string.digits + string.punctuation\n",
        "    password = ''.join(random.choice(characters) for i in range(length))\n",
        "    return password\n",
        "\n",
        "def main():\n",
        "    print(\"Welcome to the Random Password Generator!\")\n",
        "\n",
        "    while True:\n",
        "        try:\n",
        "            num_passwords = int(input(\"Enter the number of passwords you want to generate: \"))\n",
        "            if num_passwords <= 0:\n",
        "                print(\"Please enter a positive integer for the number of passwords.\")\n",
        "                continue\n",
        "            break\n",
        "        except ValueError:\n",
        "            print(\"Invalid input! Please enter a valid number.\")\n",
        "\n",
        "    while True:\n",
        "        try:\n",
        "            password_length = int(input(\"Enter the length of each password: \"))\n",
        "            if password_length <= 0:\n",
        "                print(\"Please enter a positive integer for the length of the password.\")\n",
        "                continue\n",
        "            break\n",
        "        except ValueError:\n",
        "            print(\"Invalid input! Please enter a valid number.\")\n",
        "\n",
        "    print(\"\\nYour generated passwords:\")\n",
        "    for _ in range(num_passwords):\n",
        "        print(generate_password(password_length))\n",
        "\n",
        "if __name__ == \"__main__\":\n",
        "    main()"
      ],
      "metadata": {
        "id": "CMxV0a2o7NFE"
      },
      "execution_count": null,
      "outputs": []
    }
  ]
}